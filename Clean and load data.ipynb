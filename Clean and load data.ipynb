{
 "cells": [
  {
   "cell_type": "code",
   "execution_count": 38,
   "metadata": {},
   "outputs": [
    {
     "name": "stdout",
     "output_type": "stream",
     "text": [
      "Requirement already satisfied: pandas in /Users/s.konkiel/opt/anaconda3/envs/PythonData/lib/python3.8/site-packages (1.2.1)\n",
      "Requirement already satisfied: matplotlib in /Users/s.konkiel/opt/anaconda3/envs/PythonData/lib/python3.8/site-packages (3.3.4)\n",
      "Requirement already satisfied: yfinance in /Users/s.konkiel/opt/anaconda3/envs/PythonData/lib/python3.8/site-packages (0.1.63)\n",
      "Requirement already satisfied: numpy in /Users/s.konkiel/opt/anaconda3/envs/PythonData/lib/python3.8/site-packages (1.19.2)\n",
      "Requirement already satisfied: pytz>=2017.3 in /Users/s.konkiel/opt/anaconda3/envs/PythonData/lib/python3.8/site-packages (from pandas) (2019.3)\n",
      "Requirement already satisfied: python-dateutil>=2.7.3 in /Users/s.konkiel/opt/anaconda3/envs/PythonData/lib/python3.8/site-packages (from pandas) (2.8.1)\n",
      "Requirement already satisfied: cycler>=0.10 in /Users/s.konkiel/opt/anaconda3/envs/PythonData/lib/python3.8/site-packages (from matplotlib) (0.10.0)\n",
      "Requirement already satisfied: pillow>=6.2.0 in /Users/s.konkiel/opt/anaconda3/envs/PythonData/lib/python3.8/site-packages (from matplotlib) (8.0.1)\n",
      "Requirement already satisfied: kiwisolver>=1.0.1 in /Users/s.konkiel/opt/anaconda3/envs/PythonData/lib/python3.8/site-packages (from matplotlib) (1.3.0)\n",
      "Requirement already satisfied: pyparsing!=2.0.4,!=2.1.2,!=2.1.6,>=2.0.3 in /Users/s.konkiel/opt/anaconda3/envs/PythonData/lib/python3.8/site-packages (from matplotlib) (2.4.7)\n",
      "Requirement already satisfied: lxml>=4.5.1 in /Users/s.konkiel/opt/anaconda3/envs/PythonData/lib/python3.8/site-packages (from yfinance) (4.6.3)\n",
      "Requirement already satisfied: multitasking>=0.0.7 in /Users/s.konkiel/opt/anaconda3/envs/PythonData/lib/python3.8/site-packages (from yfinance) (0.0.9)\n",
      "Requirement already satisfied: requests>=2.20 in /Users/s.konkiel/opt/anaconda3/envs/PythonData/lib/python3.8/site-packages (from yfinance) (2.25.1)\n",
      "Requirement already satisfied: six>=1.5 in /Users/s.konkiel/opt/anaconda3/envs/PythonData/lib/python3.8/site-packages (from python-dateutil>=2.7.3->pandas) (1.15.0)\n",
      "Requirement already satisfied: idna<3,>=2.5 in /Users/s.konkiel/opt/anaconda3/envs/PythonData/lib/python3.8/site-packages (from requests>=2.20->yfinance) (2.8)\n",
      "Requirement already satisfied: chardet<5,>=3.0.2 in /Users/s.konkiel/opt/anaconda3/envs/PythonData/lib/python3.8/site-packages (from requests>=2.20->yfinance) (3.0.4)\n",
      "Requirement already satisfied: certifi>=2017.4.17 in /Users/s.konkiel/opt/anaconda3/envs/PythonData/lib/python3.8/site-packages (from requests>=2.20->yfinance) (2020.12.5)\n",
      "Requirement already satisfied: urllib3<1.27,>=1.21.1 in /Users/s.konkiel/opt/anaconda3/envs/PythonData/lib/python3.8/site-packages (from requests>=2.20->yfinance) (1.25.7)\n"
     ]
    }
   ],
   "source": [
    "!pip install pandas matplotlib yfinance numpy\n",
    "\n",
    "import pandas as pd\n",
    "from matplotlib import pyplot as plt\n",
    "import yfinance as yf # https://github.com/ranaroussi/yfinance\n",
    "import numpy as np"
   ]
  },
  {
   "cell_type": "code",
   "execution_count": 39,
   "metadata": {},
   "outputs": [
    {
     "data": {
      "text/html": [
       "<div>\n",
       "<style scoped>\n",
       "    .dataframe tbody tr th:only-of-type {\n",
       "        vertical-align: middle;\n",
       "    }\n",
       "\n",
       "    .dataframe tbody tr th {\n",
       "        vertical-align: top;\n",
       "    }\n",
       "\n",
       "    .dataframe thead th {\n",
       "        text-align: right;\n",
       "    }\n",
       "</style>\n",
       "<table border=\"1\" class=\"dataframe\">\n",
       "  <thead>\n",
       "    <tr style=\"text-align: right;\">\n",
       "      <th></th>\n",
       "      <th>Name</th>\n",
       "      <th>Ticker</th>\n",
       "      <th>Category</th>\n",
       "      <th>ETF</th>\n",
       "    </tr>\n",
       "  </thead>\n",
       "  <tbody>\n",
       "    <tr>\n",
       "      <th>0</th>\n",
       "      <td>Brookfield Renewable Partners</td>\n",
       "      <td>BEP</td>\n",
       "      <td>power_hydro</td>\n",
       "      <td>NaN</td>\n",
       "    </tr>\n",
       "    <tr>\n",
       "      <th>1</th>\n",
       "      <td>General Electric</td>\n",
       "      <td>GE</td>\n",
       "      <td>power_wind</td>\n",
       "      <td>NaN</td>\n",
       "    </tr>\n",
       "    <tr>\n",
       "      <th>2</th>\n",
       "      <td>NextEra Energy Partners</td>\n",
       "      <td>NEP</td>\n",
       "      <td>power_wind</td>\n",
       "      <td>NaN</td>\n",
       "    </tr>\n",
       "    <tr>\n",
       "      <th>3</th>\n",
       "      <td>Siemens Gamesa Renewable Energy</td>\n",
       "      <td>GCTAY</td>\n",
       "      <td>power_wind</td>\n",
       "      <td>NaN</td>\n",
       "    </tr>\n",
       "    <tr>\n",
       "      <th>4</th>\n",
       "      <td>Vestas Wind Systems</td>\n",
       "      <td>VWDRY</td>\n",
       "      <td>power_wind</td>\n",
       "      <td>NaN</td>\n",
       "    </tr>\n",
       "  </tbody>\n",
       "</table>\n",
       "</div>"
      ],
      "text/plain": [
       "                              Name Ticker     Category  ETF\n",
       "0    Brookfield Renewable Partners    BEP  power_hydro  NaN\n",
       "1                 General Electric     GE   power_wind  NaN\n",
       "2          NextEra Energy Partners    NEP   power_wind  NaN\n",
       "3  Siemens Gamesa Renewable Energy  GCTAY   power_wind  NaN\n",
       "4              Vestas Wind Systems  VWDRY   power_wind  NaN"
      ]
     },
     "execution_count": 39,
     "metadata": {},
     "output_type": "execute_result"
    }
   ],
   "source": [
    "# Import data\n",
    "green_stocks = pd.read_csv('green_stocks.csv')\n",
    "green_stocks.head()"
   ]
  },
  {
   "cell_type": "code",
   "execution_count": 40,
   "metadata": {},
   "outputs": [
    {
     "data": {
      "text/plain": [
       "<AxesSubplot:>"
      ]
     },
     "execution_count": 40,
     "metadata": {},
     "output_type": "execute_result"
    },
    {
     "data": {
      "image/png": "[encoded data removed]",
      "text/plain": [
       "<Figure size 432x288 with 1 Axes>"
      ]
     },
     "metadata": {
      "needs_background": "light"
     },
     "output_type": "display_data"
    }
   ],
   "source": [
    "# Understand distribution of stock data\n",
    "green_stocks['Category'].value_counts().plot(kind='bar')"
   ]
  },
  {
   "cell_type": "code",
   "execution_count": 41,
   "metadata": {},
   "outputs": [
    {
     "data": {
      "text/plain": [
       "<AxesSubplot:>"
      ]
     },
     "execution_count": 41,
     "metadata": {},
     "output_type": "execute_result"
    },
    {
     "data": {
      "image/png": "[encoded data removed]",
      "text/plain": [
       "<Figure size 432x288 with 1 Axes>"
      ]
     },
     "metadata": {
      "needs_background": "light"
     },
     "output_type": "display_data"
    }
   ],
   "source": [
    "green_stocks['ETF'].value_counts(dropna=False).plot(kind='bar')"
   ]
  },
  {
   "cell_type": "code",
   "execution_count": 42,
   "metadata": {},
   "outputs": [],
   "source": [
    "# Example Yahoo Finance query based on ticker symbol of 'BEP'\n",
    "BEP = yf.Ticker('BEP')"
   ]
  },
  {
   "cell_type": "code",
   "execution_count": 43,
   "metadata": {},
   "outputs": [
    {
     "data": {
      "text/plain": [
       "'Brookfield Renewable Partners L.P. owns a portfolio of renewable power generating facilities primarily in North America, Colombia, Brazil, Europe, India, and China. The company generates electricity through hydroelectric, wind, solar, distributed generation, pumped storage, cogeneration, and biomass sources. Its portfolio consists of approximately 19,000 megawatts of installed capacity. Brookfield Renewable Partners Limited operates as the general partner of Brookfield Renewable Partners L.P. The company was formerly known as Brookfield Renewable Energy Partners L.P. and changed its name to Brookfield Renewable Partners L.P. in May 2016. Brookfield Renewable Partners L.P. was founded in 1999 and is based in Toronto, Canada.'"
      ]
     },
     "execution_count": 43,
     "metadata": {},
     "output_type": "execute_result"
    }
   ],
   "source": [
    "BEP.info['longBusinessSummary']"
   ]
  },
  {
   "cell_type": "code",
   "execution_count": 44,
   "metadata": {},
   "outputs": [
    {
     "data": {
      "text/plain": [
       "'http://www.bep.brookfield.com'"
      ]
     },
     "execution_count": 44,
     "metadata": {},
     "output_type": "execute_result"
    }
   ],
   "source": [
    "BEP.info['website']"
   ]
  },
  {
   "cell_type": "code",
   "execution_count": 46,
   "metadata": {},
   "outputs": [],
   "source": [
    "# Get stock data for all green stocks\n",
    "\n",
    "stock_descriptions = []\n",
    "stock_websites = []\n",
    "\n",
    "def get_stock_description(ticker):\n",
    "    stock = yf.Ticker(ticker)\n",
    "    # Descriptive information\n",
    "    try:\n",
    "        description = stock.info['longBusinessSummary']\n",
    "        website = stock.info['website']\n",
    "    except:\n",
    "        description = np.nan\n",
    "        website = np.nan\n",
    "        print(f'No stock with {ticker} ticker symbol...')\n",
    "    stock_descriptions.append(description)\n",
    "    stock_websites.append(website)"
   ]
  },
  {
   "cell_type": "code",
   "execution_count": 47,
   "metadata": {},
   "outputs": [
    {
     "name": "stdout",
     "output_type": "stream",
     "text": [
      "No stock with FAN ticker symbol...\n",
      "No stock with VSLR ticker symbol...\n",
      "No stock with TAN ticker symbol...\n",
      "No stock with EVX ticker symbol...\n",
      "No stock with PZD ticker symbol...\n",
      "No stock with DRIV ticker symbol...\n"
     ]
    }
   ],
   "source": [
    "green_stocks['Ticker'].apply(get_stock_description)\n",
    "\n",
    "green_stocks = pd.concat([green_stocks,pd.Series(stock_descriptions, name='Description')], axis=1).copy()\n",
    "green_stocks = pd.concat([green_stocks,pd.Series(stock_websites, name='Website')], axis=1).copy()"
   ]
  },
  {
   "cell_type": "code",
   "execution_count": 49,
   "metadata": {},
   "outputs": [
    {
     "data": {
      "text/html": [
       "<div>\n",
       "<style scoped>\n",
       "    .dataframe tbody tr th:only-of-type {\n",
       "        vertical-align: middle;\n",
       "    }\n",
       "\n",
       "    .dataframe tbody tr th {\n",
       "        vertical-align: top;\n",
       "    }\n",
       "\n",
       "    .dataframe thead th {\n",
       "        text-align: right;\n",
       "    }\n",
       "</style>\n",
       "<table border=\"1\" class=\"dataframe\">\n",
       "  <thead>\n",
       "    <tr style=\"text-align: right;\">\n",
       "      <th></th>\n",
       "      <th>Name</th>\n",
       "      <th>Ticker</th>\n",
       "      <th>Category</th>\n",
       "      <th>ETF</th>\n",
       "      <th>Description</th>\n",
       "      <th>Website</th>\n",
       "    </tr>\n",
       "  </thead>\n",
       "  <tbody>\n",
       "    <tr>\n",
       "      <th>0</th>\n",
       "      <td>Brookfield Renewable Partners</td>\n",
       "      <td>BEP</td>\n",
       "      <td>power_hydro</td>\n",
       "      <td>NaN</td>\n",
       "      <td>Brookfield Renewable Partners L.P. owns a port...</td>\n",
       "      <td>http://www.bep.brookfield.com</td>\n",
       "    </tr>\n",
       "    <tr>\n",
       "      <th>1</th>\n",
       "      <td>General Electric</td>\n",
       "      <td>GE</td>\n",
       "      <td>power_wind</td>\n",
       "      <td>NaN</td>\n",
       "      <td>General Electric Company operates as a high-te...</td>\n",
       "      <td>http://www.ge.com</td>\n",
       "    </tr>\n",
       "    <tr>\n",
       "      <th>2</th>\n",
       "      <td>NextEra Energy Partners</td>\n",
       "      <td>NEP</td>\n",
       "      <td>power_wind</td>\n",
       "      <td>NaN</td>\n",
       "      <td>NextEra Energy Partners, LP acquires, owns, an...</td>\n",
       "      <td>http://www.investor.nexteraenergypartners.com</td>\n",
       "    </tr>\n",
       "    <tr>\n",
       "      <th>3</th>\n",
       "      <td>Siemens Gamesa Renewable Energy</td>\n",
       "      <td>GCTAY</td>\n",
       "      <td>power_wind</td>\n",
       "      <td>NaN</td>\n",
       "      <td>Siemens Gamesa Renewable Energy, S.A., togethe...</td>\n",
       "      <td>http://www.siemensgamesa.com</td>\n",
       "    </tr>\n",
       "    <tr>\n",
       "      <th>4</th>\n",
       "      <td>Vestas Wind Systems</td>\n",
       "      <td>VWDRY</td>\n",
       "      <td>power_wind</td>\n",
       "      <td>NaN</td>\n",
       "      <td>Vestas Wind Systems A/S designs, manufactures,...</td>\n",
       "      <td>http://www.vestas.com</td>\n",
       "    </tr>\n",
       "    <tr>\n",
       "      <th>6</th>\n",
       "      <td>First Solar</td>\n",
       "      <td>FSLR</td>\n",
       "      <td>power_solar</td>\n",
       "      <td>NaN</td>\n",
       "      <td>First Solar, Inc. provides photovoltaic (PV) s...</td>\n",
       "      <td>http://www.firstsolar.com</td>\n",
       "    </tr>\n",
       "    <tr>\n",
       "      <th>7</th>\n",
       "      <td>JinkoSolar Holding</td>\n",
       "      <td>JKS</td>\n",
       "      <td>power_solar</td>\n",
       "      <td>NaN</td>\n",
       "      <td>JinkoSolar Holding Co., Ltd., together with it...</td>\n",
       "      <td>http://www.jinkosolar.com</td>\n",
       "    </tr>\n",
       "    <tr>\n",
       "      <th>8</th>\n",
       "      <td>Sunpower</td>\n",
       "      <td>SPWR</td>\n",
       "      <td>power_solar</td>\n",
       "      <td>NaN</td>\n",
       "      <td>SunPower Corporation delivers solar solutions ...</td>\n",
       "      <td>http://us.sunpower.com</td>\n",
       "    </tr>\n",
       "    <tr>\n",
       "      <th>9</th>\n",
       "      <td>Enphase Energy</td>\n",
       "      <td>ENPH</td>\n",
       "      <td>power_solar</td>\n",
       "      <td>NaN</td>\n",
       "      <td>Enphase Energy, Inc., together with its subsid...</td>\n",
       "      <td>http://www.enphase.com</td>\n",
       "    </tr>\n",
       "    <tr>\n",
       "      <th>10</th>\n",
       "      <td>Sunrun</td>\n",
       "      <td>RUN</td>\n",
       "      <td>power_solar</td>\n",
       "      <td>NaN</td>\n",
       "      <td>Sunrun Inc. engages in the design, development...</td>\n",
       "      <td>http://www.sunrun.com</td>\n",
       "    </tr>\n",
       "    <tr>\n",
       "      <th>13</th>\n",
       "      <td>Fuel-Tech</td>\n",
       "      <td>FTEK</td>\n",
       "      <td>pollution_control</td>\n",
       "      <td>NaN</td>\n",
       "      <td>Fuel Tech, Inc. provides boiler optimization, ...</td>\n",
       "      <td>http://www.ftek.com</td>\n",
       "    </tr>\n",
       "    <tr>\n",
       "      <th>16</th>\n",
       "      <td>Tesla</td>\n",
       "      <td>TSLA</td>\n",
       "      <td>transportation</td>\n",
       "      <td>NaN</td>\n",
       "      <td>Tesla, Inc. designs, develops, manufactures, l...</td>\n",
       "      <td>http://www.tesla.com</td>\n",
       "    </tr>\n",
       "    <tr>\n",
       "      <th>17</th>\n",
       "      <td>Ballard Power Systems</td>\n",
       "      <td>BLDP</td>\n",
       "      <td>batteries</td>\n",
       "      <td>NaN</td>\n",
       "      <td>Ballard Power Systems Inc. engages in the desi...</td>\n",
       "      <td>http://www.ballard.com</td>\n",
       "    </tr>\n",
       "    <tr>\n",
       "      <th>18</th>\n",
       "      <td>FuelCell Energy</td>\n",
       "      <td>FCEL</td>\n",
       "      <td>batteries</td>\n",
       "      <td>NaN</td>\n",
       "      <td>FuelCell Energy, Inc., together with its subsi...</td>\n",
       "      <td>http://www.fuelcellenergy.com</td>\n",
       "    </tr>\n",
       "    <tr>\n",
       "      <th>19</th>\n",
       "      <td>United Natural Foods</td>\n",
       "      <td>UNFI</td>\n",
       "      <td>food</td>\n",
       "      <td>NaN</td>\n",
       "      <td>United Natural Foods, Inc., together with its ...</td>\n",
       "      <td>http://www.unfi.com</td>\n",
       "    </tr>\n",
       "    <tr>\n",
       "      <th>20</th>\n",
       "      <td>Mowi ASA</td>\n",
       "      <td>MNHVF</td>\n",
       "      <td>food</td>\n",
       "      <td>NaN</td>\n",
       "      <td>Mowi ASA, a seafood company, produces and supp...</td>\n",
       "      <td>http://www.mowi.com</td>\n",
       "    </tr>\n",
       "    <tr>\n",
       "      <th>21</th>\n",
       "      <td>Ormat Technologies</td>\n",
       "      <td>ORA</td>\n",
       "      <td>power_geothermal</td>\n",
       "      <td>NaN</td>\n",
       "      <td>Ormat Technologies, Inc. engages in the geothe...</td>\n",
       "      <td>http://www.ormat.com</td>\n",
       "    </tr>\n",
       "    <tr>\n",
       "      <th>22</th>\n",
       "      <td>Azure Power</td>\n",
       "      <td>AZRE</td>\n",
       "      <td>power_solar</td>\n",
       "      <td>NaN</td>\n",
       "      <td>Azure Power Global Limited, together with its ...</td>\n",
       "      <td>http://www.azurepower.com</td>\n",
       "    </tr>\n",
       "    <tr>\n",
       "      <th>23</th>\n",
       "      <td>Boralex Inc</td>\n",
       "      <td>BRLXF</td>\n",
       "      <td>power_wind</td>\n",
       "      <td>NaN</td>\n",
       "      <td>Boralex Inc., together with its subsidiaries, ...</td>\n",
       "      <td>http://www.boralex.com</td>\n",
       "    </tr>\n",
       "    <tr>\n",
       "      <th>24</th>\n",
       "      <td>First National Energy Corp</td>\n",
       "      <td>FNEC</td>\n",
       "      <td>power_wind</td>\n",
       "      <td>NaN</td>\n",
       "      <td>First National Energy Corporation focuses on p...</td>\n",
       "      <td>http://www.firstnationalenergy.com</td>\n",
       "    </tr>\n",
       "    <tr>\n",
       "      <th>26</th>\n",
       "      <td>Ford Motor Company</td>\n",
       "      <td>F</td>\n",
       "      <td>transportation</td>\n",
       "      <td>NaN</td>\n",
       "      <td>Ford Motor Company designs, manufactures, mark...</td>\n",
       "      <td>http://www.ford.com</td>\n",
       "    </tr>\n",
       "    <tr>\n",
       "      <th>27</th>\n",
       "      <td>General Motors</td>\n",
       "      <td>GM</td>\n",
       "      <td>transportation</td>\n",
       "      <td>NaN</td>\n",
       "      <td>General Motors Company designs, builds, and se...</td>\n",
       "      <td>http://www.gm.com</td>\n",
       "    </tr>\n",
       "    <tr>\n",
       "      <th>28</th>\n",
       "      <td>Ingredion</td>\n",
       "      <td>INGR</td>\n",
       "      <td>food</td>\n",
       "      <td>NaN</td>\n",
       "      <td>Ingredion Incorporated, together with its subs...</td>\n",
       "      <td>http://www.ingredion.com</td>\n",
       "    </tr>\n",
       "    <tr>\n",
       "      <th>29</th>\n",
       "      <td>Laird Superfood</td>\n",
       "      <td>LSF</td>\n",
       "      <td>food</td>\n",
       "      <td>NaN</td>\n",
       "      <td>Laird Superfood, Inc. manufactures and markets...</td>\n",
       "      <td>http://lairdsuperfood.com</td>\n",
       "    </tr>\n",
       "  </tbody>\n",
       "</table>\n",
       "</div>"
      ],
      "text/plain": [
       "                               Name Ticker           Category  ETF  \\\n",
       "0     Brookfield Renewable Partners    BEP        power_hydro  NaN   \n",
       "1                  General Electric     GE         power_wind  NaN   \n",
       "2           NextEra Energy Partners    NEP         power_wind  NaN   \n",
       "3   Siemens Gamesa Renewable Energy  GCTAY         power_wind  NaN   \n",
       "4               Vestas Wind Systems  VWDRY         power_wind  NaN   \n",
       "6                       First Solar   FSLR        power_solar  NaN   \n",
       "7                JinkoSolar Holding    JKS        power_solar  NaN   \n",
       "8                          Sunpower   SPWR        power_solar  NaN   \n",
       "9                    Enphase Energy   ENPH        power_solar  NaN   \n",
       "10                           Sunrun    RUN        power_solar  NaN   \n",
       "13                        Fuel-Tech   FTEK  pollution_control  NaN   \n",
       "16                            Tesla   TSLA     transportation  NaN   \n",
       "17            Ballard Power Systems   BLDP          batteries  NaN   \n",
       "18                  FuelCell Energy   FCEL          batteries  NaN   \n",
       "19             United Natural Foods   UNFI               food  NaN   \n",
       "20                         Mowi ASA  MNHVF               food  NaN   \n",
       "21               Ormat Technologies    ORA   power_geothermal  NaN   \n",
       "22                      Azure Power   AZRE        power_solar  NaN   \n",
       "23                      Boralex Inc  BRLXF         power_wind  NaN   \n",
       "24       First National Energy Corp   FNEC         power_wind  NaN   \n",
       "26               Ford Motor Company      F     transportation  NaN   \n",
       "27                   General Motors     GM     transportation  NaN   \n",
       "28                        Ingredion   INGR               food  NaN   \n",
       "29                  Laird Superfood    LSF               food  NaN   \n",
       "\n",
       "                                          Description  \\\n",
       "0   Brookfield Renewable Partners L.P. owns a port...   \n",
       "1   General Electric Company operates as a high-te...   \n",
       "2   NextEra Energy Partners, LP acquires, owns, an...   \n",
       "3   Siemens Gamesa Renewable Energy, S.A., togethe...   \n",
       "4   Vestas Wind Systems A/S designs, manufactures,...   \n",
       "6   First Solar, Inc. provides photovoltaic (PV) s...   \n",
       "7   JinkoSolar Holding Co., Ltd., together with it...   \n",
       "8   SunPower Corporation delivers solar solutions ...   \n",
       "9   Enphase Energy, Inc., together with its subsid...   \n",
       "10  Sunrun Inc. engages in the design, development...   \n",
       "13  Fuel Tech, Inc. provides boiler optimization, ...   \n",
       "16  Tesla, Inc. designs, develops, manufactures, l...   \n",
       "17  Ballard Power Systems Inc. engages in the desi...   \n",
       "18  FuelCell Energy, Inc., together with its subsi...   \n",
       "19  United Natural Foods, Inc., together with its ...   \n",
       "20  Mowi ASA, a seafood company, produces and supp...   \n",
       "21  Ormat Technologies, Inc. engages in the geothe...   \n",
       "22  Azure Power Global Limited, together with its ...   \n",
       "23  Boralex Inc., together with its subsidiaries, ...   \n",
       "24  First National Energy Corporation focuses on p...   \n",
       "26  Ford Motor Company designs, manufactures, mark...   \n",
       "27  General Motors Company designs, builds, and se...   \n",
       "28  Ingredion Incorporated, together with its subs...   \n",
       "29  Laird Superfood, Inc. manufactures and markets...   \n",
       "\n",
       "                                          Website  \n",
       "0                   http://www.bep.brookfield.com  \n",
       "1                               http://www.ge.com  \n",
       "2   http://www.investor.nexteraenergypartners.com  \n",
       "3                    http://www.siemensgamesa.com  \n",
       "4                           http://www.vestas.com  \n",
       "6                       http://www.firstsolar.com  \n",
       "7                       http://www.jinkosolar.com  \n",
       "8                          http://us.sunpower.com  \n",
       "9                          http://www.enphase.com  \n",
       "10                          http://www.sunrun.com  \n",
       "13                            http://www.ftek.com  \n",
       "16                           http://www.tesla.com  \n",
       "17                         http://www.ballard.com  \n",
       "18                  http://www.fuelcellenergy.com  \n",
       "19                            http://www.unfi.com  \n",
       "20                            http://www.mowi.com  \n",
       "21                           http://www.ormat.com  \n",
       "22                      http://www.azurepower.com  \n",
       "23                         http://www.boralex.com  \n",
       "24             http://www.firstnationalenergy.com  \n",
       "26                            http://www.ford.com  \n",
       "27                              http://www.gm.com  \n",
       "28                       http://www.ingredion.com  \n",
       "29                      http://lairdsuperfood.com  "
      ]
     },
     "execution_count": 49,
     "metadata": {},
     "output_type": "execute_result"
    }
   ],
   "source": [
    "# Clean up stocks with missing description / websites (indicating no data in Yahoo Finance)\n",
    "# These are mostly ETFs\n",
    "green_stocks = green_stocks.dropna(subset=['Description', 'Website'])\n",
    "green_stocks"
   ]
  },
  {
   "cell_type": "code",
   "execution_count": null,
   "metadata": {},
   "outputs": [],
   "source": []
  }
 ],
 "metadata": {
  "kernelspec": {
   "display_name": "Python 3",
   "language": "python",
   "name": "python3"
  },
  "language_info": {
   "codemirror_mode": {
    "name": "ipython",
    "version": 3
   },
   "file_extension": ".py",
   "mimetype": "text/x-python",
   "name": "python",
   "nbconvert_exporter": "python",
   "pygments_lexer": "ipython3",
   "version": "3.8.5"
  }
 },
 "nbformat": 4,
 "nbformat_minor": 2
}
